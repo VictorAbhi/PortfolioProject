{
 "cells": [
  {
   "cell_type": "code",
   "execution_count": 33,
   "id": "884f2db8-8c4d-4e89-94a4-9ef94d4022d8",
   "metadata": {},
   "outputs": [],
   "source": [
    "from selenium import webdriver\n",
    "from bs4 import BeautifulSoup\n",
    "from selenium.webdriver.chrome.service import Service\n",
    "from webdriver_manager.chrome import ChromeDriverManager\n",
    "import bs4\n",
    "import time\n",
    "import pandas as pd\n",
    "import os"
   ]
  },
  {
   "cell_type": "code",
   "execution_count": 34,
   "id": "7faac661-1fd4-4485-a57d-1657dea61862",
   "metadata": {},
   "outputs": [],
   "source": [
    "from selenium.webdriver.support.select import Select\n",
    "from selenium.webdriver.support.ui import WebDriverWait\n",
    "from selenium.webdriver.common.by import By\n",
    "from selenium.webdriver.support import expected_conditions as EC"
   ]
  },
  {
   "cell_type": "code",
   "execution_count": 35,
   "id": "256e109c-33d4-4941-bd39-6afda78d4125",
   "metadata": {},
   "outputs": [],
   "source": [
    "url1 = 'https://www.linkedin.com/jobs/search/?currentJobId=3606636350&geoId=104630404&keywords=software%20developer&location=Nepal'"
   ]
  },
  {
   "cell_type": "code",
   "execution_count": 36,
   "id": "bea8f82e",
   "metadata": {},
   "outputs": [],
   "source": [
    "from selenium.webdriver.chrome.service import Service\n",
    "from webdriver_manager.chrome import ChromeDriverManager\n",
    "driver = webdriver.Chrome(service=Service(ChromeDriverManager().install()))\n",
    "driver.get(url1)"
   ]
  },
  {
   "cell_type": "code",
   "execution_count": 37,
   "id": "efe656b9",
   "metadata": {},
   "outputs": [
    {
     "name": "stdout",
     "output_type": "stream",
     "text": [
      "217\n"
     ]
    }
   ],
   "source": [
    "from selenium.webdriver.common.by import By\n",
    "no_of_jobs =  int(driver.find_element(By.CLASS_NAME,'results-context-header__job-count').text)\n",
    "print(no_of_jobs)"
   ]
  },
  {
   "cell_type": "code",
   "execution_count": 38,
   "id": "35960dab",
   "metadata": {},
   "outputs": [
    {
     "data": {
      "text/plain": [
       "int"
      ]
     },
     "execution_count": 38,
     "metadata": {},
     "output_type": "execute_result"
    }
   ],
   "source": [
    "type(no_of_jobs)"
   ]
  },
  {
   "cell_type": "code",
   "execution_count": 39,
   "id": "f52de1e7",
   "metadata": {},
   "outputs": [],
   "source": [
    "i = 2\n",
    "while i <= int(no_of_jobs/25)+1: \n",
    "    driver.execute_script(\"window.scrollTo(0, document.body.scrollHeight);\")\n",
    "    i = i + 1\n",
    "    \n",
    "    try:\n",
    "        driver.find_element_by_xpath('/html/body/main/div/section/button').click()\n",
    "        time.sleep(5)\n",
    "    except:\n",
    "        pass\n",
    "        time.sleep(5)"
   ]
  },
  {
   "cell_type": "code",
   "execution_count": 40,
   "id": "e07725bd",
   "metadata": {},
   "outputs": [],
   "source": [
    "soup = BeautifulSoup(driver.page_source, 'html.parser')"
   ]
  },
  {
   "cell_type": "code",
   "execution_count": 68,
   "id": "1690d4d9",
   "metadata": {},
   "outputs": [
    {
     "name": "stdout",
     "output_type": "stream",
     "text": [
      "[{'Job Title': 'HTML5 Developer', 'Company Name': 'AppCake', 'Location': 'Nepal', 'Posted Date': '2023-05-05'}, {'Job Title': 'Java Developer', 'Company Name': 'TrimCheck', 'Location': 'Nepal', 'Posted Date': '2023-05-05'}, {'Job Title': 'HTML Developer with Experience in Playable Ads', 'Company Name': 'AppCake', 'Location': 'Nepal', 'Posted Date': '2023-05-05'}, {'Job Title': 'Software Developer', 'Company Name': 'ICAS Technology (S) Pte Ltd', 'Location': 'Nepal', 'Posted Date': '2023-05-05'}, {'Job Title': 'Backend Developer', 'Company Name': 'AppCake', 'Location': 'Nepal', 'Posted Date': '2023-05-05'}, {'Job Title': 'Frontend Engineer', 'Company Name': 'Fusemachines', 'Location': 'Kathmandu, Bāgmatī, Nepal', 'Posted Date': '2023-05-19'}, {'Job Title': 'Junior Python Developer (Remote Internship – IT)', 'Company Name': 'TalentKompass Deutschland', 'Location': 'Kathmandu, Bāgmatī, Nepal', 'Posted Date': '2023-05-18'}, {'Job Title': 'Java Developer', 'Company Name': 'Fusemachines', 'Location': 'Kathmandu, Bāgmatī, Nepal', 'Posted Date': '2023-05-16'}, {'Job Title': 'Full Stack Software Developer (Kathmandu)', 'Company Name': 'Blys', 'Location': 'Kathmandu, Bāgmatī, Nepal', 'Posted Date': '2023-04-05'}, {'Job Title': 'Game Developer / HTML Developer with Playable Ads Experience', 'Company Name': 'AppCake', 'Location': 'Nepal', 'Posted Date': '2023-05-05'}, {'Job Title': 'Java + Swift Developer', 'Company Name': 'TrimCheck', 'Location': 'Nepal', 'Posted Date': '2023-05-05'}, {'Job Title': 'Full Stack Developer', 'Company Name': 'My Next Film', 'Location': 'Nepal', 'Posted Date': '2023-05-16'}, {'Job Title': 'Android Developer', 'Company Name': 'TrimCheck', 'Location': 'Nepal', 'Posted Date': '2023-05-05'}, {'Job Title': 'Swift Developer', 'Company Name': 'TrimCheck', 'Location': 'Nepal', 'Posted Date': '2023-05-05'}, {'Job Title': 'HTML5 Playable Ads Developer', 'Company Name': 'AppCake', 'Location': 'Nepal', 'Posted Date': '2023-05-05'}, {'Job Title': 'HTML5 Playable Ads Developer', 'Company Name': 'AppCake', 'Location': 'Nepal', 'Posted Date': '2023-05-05'}, {'Job Title': 'Senior C# .Net Full Stack DevOps Engineer', 'Company Name': 'TradingPost Group', 'Location': 'Nepal', 'Posted Date': '2023-05-05'}, {'Job Title': 'HTML5 Developer with Experience in Playable Ads', 'Company Name': 'AppCake', 'Location': 'Nepal', 'Posted Date': '2023-05-05'}, {'Job Title': 'Full-Stack Web Developer', 'Company Name': 'Turing', 'Location': 'Nepal', 'Posted Date': '2023-05-14'}, {'Job Title': 'Software Engineer - Backend', 'Company Name': 'Niural', 'Location': 'Kathmandu, Bāgmatī, Nepal', 'Posted Date': '2023-05-25'}, {'Job Title': 'Senior .NET Developer', 'Company Name': 'Digi Upaay Solutions Pvt Ltd', 'Location': 'Nepal', 'Posted Date': '2023-05-05'}, {'Job Title': 'Senior Backend Software Engineer', 'Company Name': 'Fusemachines', 'Location': 'Kathmandu, Bāgmatī, Nepal', 'Posted Date': '2023-03-28'}, {'Job Title': 'Software Engineer', 'Company Name': 'Hitachi Energy', 'Location': 'Kathmandu, Bāgmatī, Nepal', 'Posted Date': '2023-04-12'}, {'Job Title': 'Senior React.js Developer - Nepal', 'Company Name': 'Agnos Inc.', 'Location': 'Nepal', 'Posted Date': '2023-03-28'}, {'Job Title': 'Senior Java Developer', 'Company Name': 'Fusemachines', 'Location': 'Kathmandu, Bāgmatī, Nepal', 'Posted Date': '2023-05-16'}, {'Job Title': 'NODE.js Developer', 'Company Name': 'E - Signature Pvt. Ltd.', 'Location': 'Kathmandu, Bāgmatī, Nepal', 'Posted Date': '2023-05-25'}, {'Job Title': 'Data Engineer', 'Company Name': 'BillEase', 'Location': 'Nepal', 'Posted Date': '2023-05-22'}, {'Job Title': 'Full-Stack Developer', 'Company Name': 'Turing', 'Location': 'Nepal', 'Posted Date': '2023-05-14'}, {'Job Title': 'Senior Frontend Engineer', 'Company Name': 'Fusemachines', 'Location': 'Kathmandu, Bāgmatī, Nepal', 'Posted Date': '2023-03-28'}, {'Job Title': 'Junior Blockchain Developer (Remote Internship – IT)', 'Company Name': 'TalentKompass Deutschland', 'Location': 'Kathmandu, Bāgmatī, Nepal', 'Posted Date': '2023-05-18'}, {'Job Title': 'Full-Stack Developer', 'Company Name': 'Turing', 'Location': 'Nepal', 'Posted Date': '2023-05-14'}, {'Job Title': 'Python Developer', 'Company Name': 'Sajilo Ventures Pvt. Ltd.', 'Location': 'Kathmandu, Bāgmatī, Nepal', 'Posted Date': '2023-05-25'}, {'Job Title': 'Senior Software Engineer (m/f/x) in Kathmandu', 'Company Name': 'ITONICS - The Innovation OS', 'Location': 'Kathmandu, Bāgmatī, Nepal', 'Posted Date': '2023-04-29'}, {'Job Title': 'Senior Node.js Developer - Nepal', 'Company Name': 'Agnos Inc.', 'Location': 'Nepal', 'Posted Date': '2023-03-28'}, {'Job Title': 'Software Engineer', 'Company Name': 'Turing', 'Location': 'Nepal', 'Posted Date': '2023-05-14'}, {'Job Title': 'Senior Dotnet Developer', 'Company Name': 'Hitachi Energy', 'Location': 'Kathmandu, Bāgmatī, Nepal', 'Posted Date': '2023-05-08'}, {'Job Title': 'Application Developer', 'Company Name': 'Turing', 'Location': 'Nepal', 'Posted Date': '2023-05-21'}, {'Job Title': 'Senior Front-End-Engineer (m/f/x) in Kathmandu', 'Company Name': 'ITONICS - The Innovation OS', 'Location': 'Kathmandu, Bāgmatī, Nepal', 'Posted Date': '2023-04-23'}, {'Job Title': 'Senior React.js Developer - Nepal', 'Company Name': 'Agnos Inc.', 'Location': 'Pokhara, Gandakī, Nepal', 'Posted Date': '2022-10-31'}, {'Job Title': 'Senior Python / Fullstack Developer', 'Company Name': 'BillEase', 'Location': 'Nepal', 'Posted Date': '2023-05-24'}, {'Job Title': 'JavaScript/HTML5 programmer', 'Company Name': 'Terakoya Academia Inc.', 'Location': 'Kathmandu, Bāgmatī, Nepal', 'Posted Date': '2023-05-24'}, {'Job Title': 'Front-End React Developer', 'Company Name': 'Turing', 'Location': 'Nepal', 'Posted Date': '2023-05-21'}, {'Job Title': 'Principal FullStack Engineer', 'Company Name': 'Employment Hero', 'Location': 'Nepal', 'Posted Date': '2023-05-23'}, {'Job Title': 'Senior Adobe Flex/ActionScript Developer - Nepal', 'Company Name': 'Agnos Inc.', 'Location': 'Nepal', 'Posted Date': '2022-11-25'}, {'Job Title': 'C# Developer', 'Company Name': 'Turing', 'Location': 'Nepal', 'Posted Date': '2023-05-17'}, {'Job Title': 'Senior Node.js Developer - Nepal', 'Company Name': 'Agnos Inc.', 'Location': 'Pokhara, Gandakī, Nepal', 'Posted Date': '2022-10-31'}, {'Job Title': 'UI Web Developer', 'Company Name': 'Turing', 'Location': 'Nepal', 'Posted Date': '2023-05-21'}, {'Job Title': 'Angular Developer', 'Company Name': 'Code Himalaya', 'Location': 'Kathmandu, Bāgmatī, Nepal', 'Posted Date': '2023-05-24'}, {'Job Title': 'Full-Stack Developer', 'Company Name': 'Turing', 'Location': 'Nepal', 'Posted Date': '2023-05-21'}, {'Job Title': 'Sr Software Engineer (.Net)', 'Company Name': 'Verisk', 'Location': 'Kathmandu, Bāgmatī, Nepal', 'Posted Date': '2023-05-13'}, {'Job Title': 'Blockchain Engineer', 'Company Name': 'Snaphyre', 'Location': 'Nepal', 'Posted Date': '2023-05-05'}, {'Job Title': 'Full-Stack Developer', 'Company Name': 'Turing', 'Location': 'Nepal', 'Posted Date': '2023-05-21'}, {'Job Title': 'Python Developer', 'Company Name': 'Turing', 'Location': 'Nepal', 'Posted Date': '2023-05-14'}, {'Job Title': 'Dotnet Developer', 'Company Name': 'COTIVITI NEPAL', 'Location': 'Kathmandu, Bāgmatī, Nepal', 'Posted Date': '2023-05-23'}, {'Job Title': 'Full-Stack JavaScript Developer', 'Company Name': 'Turing', 'Location': 'Nepal', 'Posted Date': '2023-05-14'}, {'Job Title': 'Angular Developer', 'Company Name': 'Code Himalaya', 'Location': 'Kathmandu, Bāgmatī, Nepal', 'Posted Date': '2023-05-23'}, {'Job Title': 'Dotnet Developer', 'Company Name': 'Bitspanda Technology', 'Location': 'Kathmandu, Bāgmatī, Nepal', 'Posted Date': '2023-05-23'}, {'Job Title': 'Data Engineer', 'Company Name': 'The Tech Galore', 'Location': 'Nepal', 'Posted Date': '2023-05-05'}, {'Job Title': 'Front-End Engineer', 'Company Name': 'Turing', 'Location': 'Nepal', 'Posted Date': '2023-05-14'}, {'Job Title': 'DevOps Engineer', 'Company Name': 'Fusemachines', 'Location': 'Kathmandu, Bāgmatī, Nepal', 'Posted Date': '2023-03-28'}, {'Job Title': 'Mid-level Dot Net Developer', 'Company Name': 'IMS Software Pvt. Ltd.', 'Location': 'Lalitpur District, Nepal', 'Posted Date': '2023-05-23'}, {'Job Title': 'Staff Software Developer', 'Company Name': 'Turing', 'Location': 'Nepal', 'Posted Date': '2023-05-21'}, {'Job Title': 'API Developer', 'Company Name': 'Shine Softech', 'Location': 'Biratnagar, Kosi Zone, Nepal', 'Posted Date': '2023-05-17'}, {'Job Title': 'QA Engineer (Kathmandu)', 'Company Name': 'Blys', 'Location': 'Kathmandu, Bāgmatī, Nepal', 'Posted Date': '2023-04-03'}, {'Job Title': 'Full-Stack Developer', 'Company Name': 'Turing', 'Location': 'Nepal', 'Posted Date': '2023-05-14'}, {'Job Title': 'Job Title: Full Stack Python Developer with AI Experience', 'Company Name': 'Pana Software company Pvt. Ltd.', 'Location': 'Kathmandu, Bāgmatī, Nepal', 'Posted Date': '2023-05-25'}, {'Job Title': 'Back-End Developer', 'Company Name': 'Turing', 'Location': 'Nepal', 'Posted Date': '2023-05-21'}, {'Job Title': 'VACANCY FOR SENIOR SOFTWARE DEVELOPER', 'Company Name': 'Bookmundi ApS', 'Location': 'Kathmandu, Bāgmatī, Nepal', 'Posted Date': '2023-05-22'}, {'Job Title': 'Fronted Developer (Angular preferrable)', 'Company Name': 'IMS Software Pvt. Ltd.', 'Location': 'Kathmandu, Bāgmatī, Nepal', 'Posted Date': '2023-05-25'}, {'Job Title': 'Senior NodeJs Engineer', 'Company Name': 'Fusemachines', 'Location': 'Kathmandu, Bāgmatī, Nepal', 'Posted Date': '2023-05-19'}, {'Job Title': 'Software Engineer', 'Company Name': 'Turing', 'Location': 'Nepal', 'Posted Date': '2023-05-14'}, {'Job Title': 'Data Engineer/Architect (AI/ML)', 'Company Name': 'Snaphyre', 'Location': 'Nepal', 'Posted Date': '2023-05-05'}, {'Job Title': 'Front-End React Developer', 'Company Name': 'Turing', 'Location': 'Nepal', 'Posted Date': '2023-05-14'}, {'Job Title': 'Senior Java Developers', 'Company Name': 'COTIVITI NEPAL', 'Location': 'Kathmandu, Bāgmatī, Nepal', 'Posted Date': '2023-05-05'}, {'Job Title': 'Full-Stack .NET Developer (Front-end)', 'Company Name': 'Lunover Digital Private Limited', 'Location': 'Kathmandu, Bāgmatī, Nepal', 'Posted Date': '2023-05-21'}, {'Job Title': 'Back-End Developer', 'Company Name': 'Turing', 'Location': 'Nepal', 'Posted Date': '2023-05-15'}, {'Job Title': 'Senior Java/Angular Developer', 'Company Name': 'COTIVITI NEPAL', 'Location': 'Kathmandu, Bāgmatī, Nepal', 'Posted Date': '2023-04-25'}, {'Job Title': 'Fullstack Developer(Angular | Typescript | NodeJs | RxJs)', 'Company Name': 'Ojas Technologies', 'Location': 'Kathmandu, Bāgmatī, Nepal', 'Posted Date': '2023-05-09'}, {'Job Title': 'Wordpress/PHP Developer (Kathmandu)', 'Company Name': 'Blys', 'Location': 'Kathmandu, Bāgmatī, Nepal', 'Posted Date': '2023-04-03'}, {'Job Title': 'Senior Fullstack Software Engineer (NodeJS, Ruby on Rails, React)', 'Company Name': 'Employment Hero', 'Location': 'Nepal', 'Posted Date': '2023-05-18'}, {'Job Title': 'Senior Software Engineer', 'Company Name': 'Bookmundi ApS', 'Location': 'Kathmandu, Bāgmatī, Nepal', 'Posted Date': '2023-05-23'}, {'Job Title': 'Senior DevOps Engineer - Nepal', 'Company Name': 'Agnos Inc.', 'Location': 'Nepal', 'Posted Date': '2023-03-28'}, {'Job Title': 'Solutions Engineer', 'Company Name': 'Docsumo', 'Location': 'Kathmandu, Bāgmatī, Nepal', 'Posted Date': '2023-04-17'}, {'Job Title': 'Senior / Mid-level .Net Engineer', 'Company Name': 'Verisk', 'Location': 'Kathmandu, Bāgmatī, Nepal', 'Posted Date': '2023-05-04'}, {'Job Title': 'Strapi/Svelte Developer', 'Company Name': 'Turing', 'Location': 'Nepal', 'Posted Date': '2023-05-14'}, {'Job Title': 'Junior Full-Stack AI Engineer', 'Company Name': 'Turing', 'Location': 'Nepal', 'Posted Date': '2023-05-21'}, {'Job Title': 'JAVA Spring Boot cum Test Automation Developer', 'Company Name': 'Verisk', 'Location': 'Kathmandu, Bāgmatī, Nepal', 'Posted Date': '2023-05-10'}, {'Job Title': 'Senior Software Engineer', 'Company Name': 'Slicejob', 'Location': 'Kathmandu, Bāgmatī, Nepal', 'Posted Date': '2023-05-24'}, {'Job Title': 'Quality Assurance Automation Engineer', 'Company Name': 'Citytech', 'Location': 'Kathmandu, Bāgmatī, Nepal', 'Posted Date': '2023-05-25'}, {'Job Title': 'Back-End Engineer', 'Company Name': 'Turing', 'Location': 'Nepal', 'Posted Date': '2023-05-21'}, {'Job Title': 'Sr. DotNet Core Engineer', 'Company Name': 'HAMRO JOBS - JOBS IN NEPAL', 'Location': 'Kathmandu, Bāgmatī, Nepal', 'Posted Date': '2023-05-24'}, {'Job Title': 'Senior Software Engineer', 'Company Name': 'Cotiviti', 'Location': 'Kathmandu, Bāgmatī, Nepal', 'Posted Date': '2023-05-08'}, {'Job Title': 'Sr. Software Engineer', 'Company Name': 'Xylontech', 'Location': 'Kathmandu, Bāgmatī, Nepal', 'Posted Date': '2023-05-16'}, {'Job Title': 'Front-End Engineer', 'Company Name': 'Turing', 'Location': 'Nepal', 'Posted Date': '2023-05-14'}, {'Job Title': 'Front-End Engineer', 'Company Name': 'Turing', 'Location': 'Nepal', 'Posted Date': '2023-05-21'}, {'Job Title': 'Senior Software Developer-PHP', 'Company Name': 'Bookmundi ApS', 'Location': 'Kathmandu, Bāgmatī, Nepal', 'Posted Date': '2023-05-23'}, {'Job Title': 'Full-Stack Developer', 'Company Name': 'Turing', 'Location': 'Nepal', 'Posted Date': '2023-05-21'}, {'Job Title': 'DOT NET/C# EXPERT', 'Company Name': 'Neosoftware Private Limited', 'Location': 'Kathmandu, Bāgmatī, Nepal', 'Posted Date': '2023-05-25'}, {'Job Title': 'Full-Stack Developer', 'Company Name': 'Turing', 'Location': 'Nepal', 'Posted Date': '2023-05-14'}, {'Job Title': 'Full-Stack Developer', 'Company Name': 'Turing', 'Location': 'Nepal', 'Posted Date': '2023-05-14'}, {'Job Title': 'Full-Stack Developer', 'Company Name': 'Turing', 'Location': 'Nepal', 'Posted Date': '2023-05-14'}, {'Job Title': 'Senior DevOps Engineer - Nepal', 'Company Name': 'Agnos Inc.', 'Location': 'Pokhara, Gandakī, Nepal', 'Posted Date': '2022-10-31'}, {'Job Title': 'QA Engineer', 'Company Name': 'COTIVITI NEPAL', 'Location': 'Kathmandu, Bāgmatī, Nepal', 'Posted Date': '2023-05-23'}, {'Job Title': 'Senior Dot Net Developer', 'Company Name': 'COTIVITI NEPAL', 'Location': 'Kathmandu, Bāgmatī, Nepal', 'Posted Date': '2023-05-23'}, {'Job Title': 'Azure Infrastructure Engineer', 'Company Name': 'Fusemachines', 'Location': 'Kathmandu, Bāgmatī, Nepal', 'Posted Date': '2023-05-19'}, {'Job Title': 'Senior Angular Developer', 'Company Name': 'COTIVITI NEPAL', 'Location': 'Kathmandu, Bāgmatī, Nepal', 'Posted Date': '2023-05-05'}, {'Job Title': 'Principal Engineer (.Net)', 'Company Name': 'Verisk', 'Location': 'Kathmandu, Bāgmatī, Nepal', 'Posted Date': '2023-05-04'}, {'Job Title': 'Node.js Developer', 'Company Name': 'Turing', 'Location': 'Nepal', 'Posted Date': '2023-05-14'}, {'Job Title': 'PHP Developer', 'Company Name': 'Bright Office System', 'Location': 'Butwal, Lumbiniī, Nepal', 'Posted Date': '2023-05-16'}, {'Job Title': 'Development and Operations (DevOps) Engineer', 'Company Name': 'Peace Nepal DOT Com', 'Location': 'Kathmandu, Bāgmatī, Nepal', 'Posted Date': '2023-05-25'}, {'Job Title': 'Symfony Developer', 'Company Name': 'Dzango Technologies', 'Location': 'Kathmandu, Bāgmatī, Nepal', 'Posted Date': '2023-05-19'}, {'Job Title': 'Back-End Developer', 'Company Name': 'Turing', 'Location': 'Nepal', 'Posted Date': '2023-05-14'}, {'Job Title': 'Front-End Engineer', 'Company Name': 'Turing', 'Location': 'Nepal', 'Posted Date': '2023-05-14'}, {'Job Title': 'Senior Fullstack Engineer (Ruby on Rails)', 'Company Name': 'Employment Hero', 'Location': 'Nepal', 'Posted Date': '2023-05-06'}, {'Job Title': 'C# Developer', 'Company Name': 'Turing', 'Location': 'Nepal', 'Posted Date': '2023-05-21'}, {'Job Title': 'Java Developer', 'Company Name': 'Turing', 'Location': 'Nepal', 'Posted Date': '2023-05-17'}, {'Job Title': 'Senior Data Scientist', 'Company Name': 'Frost Digital Ventures', 'Location': 'Kathmandu, Bāgmatī, Nepal', 'Posted Date': '2023-05-25'}, {'Job Title': 'Odoo Developer', 'Company Name': 'Shreeram Group Pvt. Ltd.', 'Location': 'Kathmandu, Bāgmatī, Nepal', 'Posted Date': '2023-05-14'}, {'Job Title': 'Quality Assurance Automation Engineer', 'Company Name': 'Teksewa', 'Location': 'Kathmandu, Bāgmatī, Nepal', 'Posted Date': '2023-05-24'}, {'Job Title': 'DevOps Engineer', 'Company Name': 'Tekvortex', 'Location': 'Kathmandu, Bāgmatī, Nepal', 'Posted Date': '2023-05-24'}, {'Job Title': 'Senior Ruby on Rails Developer - Nepal', 'Company Name': 'Agnos Inc.', 'Location': 'Nepal', 'Posted Date': '2023-04-19'}, {'Job Title': 'Contract: Senior Data Engineer', 'Company Name': 'Upwork', 'Location': 'Nepal', 'Posted Date': '2023-05-24'}, {'Job Title': 'Ruby on Rails & React Developer', 'Company Name': 'Fetchly Labs', 'Location': 'Nepal', 'Posted Date': '2023-05-19'}, {'Job Title': 'Senior System and DevOps Engineer', 'Company Name': 'Khalti', 'Location': 'Lalitpur District, Nepal', 'Posted Date': '2023-05-23'}, {'Job Title': 'Senior PHP Developer', 'Company Name': 'HR HUB Pvt. Ltd.', 'Location': 'Kathmandu, Bāgmatī, Nepal', 'Posted Date': '2023-05-22'}]\n"
     ]
    }
   ],
   "source": [
    "job_ = soup.find('ul', {'class': 'jobs-search__results-list'})\n",
    "job_postings = job_.find_all('li')\n",
    "\n",
    "# Extract relevant information from each job posting and store it in a list of dictionaries\n",
    "data = []\n",
    "for job_posting in job_postings:\n",
    "    try:\n",
    "        job_title = job_posting.find('h3', class_='base-search-card__title').get_text().strip()\n",
    "    except AttributeError:\n",
    "        job_title = None\n",
    "\n",
    "    try:\n",
    "        company_name = job_posting.find('h4', class_='base-search-card__subtitle').get_text().strip()\n",
    "    except AttributeError:\n",
    "        company_name = None\n",
    "\n",
    "    try:\n",
    "        location = job_posting.find('span', class_='job-search-card__location').get_text().strip()\n",
    "    except AttributeError:\n",
    "        location = None\n",
    "    try:\n",
    "        posted_date = job_posting.find('time')['datetime']\n",
    "    except AttributeError:\n",
    "        posted_date = None\n",
    "        \n",
    "    data.append({\n",
    "        'Job Title': job_title,\n",
    "        'Company Name': company_name,\n",
    "        'Location': location,\n",
    "        'Posted Date': posted_date,\n",
    "    })\n",
    "print(data)"
   ]
  },
  {
   "cell_type": "code",
   "execution_count": 69,
   "id": "0b10e8d8",
   "metadata": {},
   "outputs": [],
   "source": [
    "df = pd.DataFrame(data)"
   ]
  },
  {
   "cell_type": "code",
   "execution_count": 70,
   "id": "c0d22040",
   "metadata": {},
   "outputs": [],
   "source": [
    "df.to_csv(f'linkedin_jobs.csv',index=False)"
   ]
  },
  {
   "cell_type": "code",
   "execution_count": 73,
   "id": "a93b9aa3",
   "metadata": {},
   "outputs": [
    {
     "data": {
      "text/html": [
       "<div>\n",
       "<style scoped>\n",
       "    .dataframe tbody tr th:only-of-type {\n",
       "        vertical-align: middle;\n",
       "    }\n",
       "\n",
       "    .dataframe tbody tr th {\n",
       "        vertical-align: top;\n",
       "    }\n",
       "\n",
       "    .dataframe thead th {\n",
       "        text-align: right;\n",
       "    }\n",
       "</style>\n",
       "<table border=\"1\" class=\"dataframe\">\n",
       "  <thead>\n",
       "    <tr style=\"text-align: right;\">\n",
       "      <th></th>\n",
       "      <th>Job Title</th>\n",
       "      <th>Company Name</th>\n",
       "      <th>Location</th>\n",
       "      <th>Posted Date</th>\n",
       "    </tr>\n",
       "  </thead>\n",
       "  <tbody>\n",
       "    <tr>\n",
       "      <th>0</th>\n",
       "      <td>HTML5 Developer</td>\n",
       "      <td>AppCake</td>\n",
       "      <td>Nepal</td>\n",
       "      <td>2023-05-05</td>\n",
       "    </tr>\n",
       "    <tr>\n",
       "      <th>1</th>\n",
       "      <td>Java Developer</td>\n",
       "      <td>TrimCheck</td>\n",
       "      <td>Nepal</td>\n",
       "      <td>2023-05-05</td>\n",
       "    </tr>\n",
       "    <tr>\n",
       "      <th>2</th>\n",
       "      <td>HTML Developer with Experience in Playable Ads</td>\n",
       "      <td>AppCake</td>\n",
       "      <td>Nepal</td>\n",
       "      <td>2023-05-05</td>\n",
       "    </tr>\n",
       "    <tr>\n",
       "      <th>3</th>\n",
       "      <td>Software Developer</td>\n",
       "      <td>ICAS Technology (S) Pte Ltd</td>\n",
       "      <td>Nepal</td>\n",
       "      <td>2023-05-05</td>\n",
       "    </tr>\n",
       "    <tr>\n",
       "      <th>4</th>\n",
       "      <td>Backend Developer</td>\n",
       "      <td>AppCake</td>\n",
       "      <td>Nepal</td>\n",
       "      <td>2023-05-05</td>\n",
       "    </tr>\n",
       "    <tr>\n",
       "      <th>...</th>\n",
       "      <td>...</td>\n",
       "      <td>...</td>\n",
       "      <td>...</td>\n",
       "      <td>...</td>\n",
       "    </tr>\n",
       "    <tr>\n",
       "      <th>120</th>\n",
       "      <td>Senior Ruby on Rails Developer - Nepal</td>\n",
       "      <td>Agnos Inc.</td>\n",
       "      <td>Nepal</td>\n",
       "      <td>2023-04-19</td>\n",
       "    </tr>\n",
       "    <tr>\n",
       "      <th>121</th>\n",
       "      <td>Contract: Senior Data Engineer</td>\n",
       "      <td>Upwork</td>\n",
       "      <td>Nepal</td>\n",
       "      <td>2023-05-24</td>\n",
       "    </tr>\n",
       "    <tr>\n",
       "      <th>122</th>\n",
       "      <td>Ruby on Rails &amp; React Developer</td>\n",
       "      <td>Fetchly Labs</td>\n",
       "      <td>Nepal</td>\n",
       "      <td>2023-05-19</td>\n",
       "    </tr>\n",
       "    <tr>\n",
       "      <th>123</th>\n",
       "      <td>Senior System and DevOps Engineer</td>\n",
       "      <td>Khalti</td>\n",
       "      <td>Lalitpur District, Nepal</td>\n",
       "      <td>2023-05-23</td>\n",
       "    </tr>\n",
       "    <tr>\n",
       "      <th>124</th>\n",
       "      <td>Senior PHP Developer</td>\n",
       "      <td>HR HUB Pvt. Ltd.</td>\n",
       "      <td>Kathmandu, Bāgmatī, Nepal</td>\n",
       "      <td>2023-05-22</td>\n",
       "    </tr>\n",
       "  </tbody>\n",
       "</table>\n",
       "<p>125 rows × 4 columns</p>\n",
       "</div>"
      ],
      "text/plain": [
       "                                          Job Title  \\\n",
       "0                                   HTML5 Developer   \n",
       "1                                    Java Developer   \n",
       "2    HTML Developer with Experience in Playable Ads   \n",
       "3                                Software Developer   \n",
       "4                                 Backend Developer   \n",
       "..                                              ...   \n",
       "120          Senior Ruby on Rails Developer - Nepal   \n",
       "121                  Contract: Senior Data Engineer   \n",
       "122                 Ruby on Rails & React Developer   \n",
       "123               Senior System and DevOps Engineer   \n",
       "124                            Senior PHP Developer   \n",
       "\n",
       "                    Company Name                   Location Posted Date  \n",
       "0                        AppCake                      Nepal  2023-05-05  \n",
       "1                      TrimCheck                      Nepal  2023-05-05  \n",
       "2                        AppCake                      Nepal  2023-05-05  \n",
       "3    ICAS Technology (S) Pte Ltd                      Nepal  2023-05-05  \n",
       "4                        AppCake                      Nepal  2023-05-05  \n",
       "..                           ...                        ...         ...  \n",
       "120                   Agnos Inc.                      Nepal  2023-04-19  \n",
       "121                       Upwork                      Nepal  2023-05-24  \n",
       "122                 Fetchly Labs                      Nepal  2023-05-19  \n",
       "123                       Khalti   Lalitpur District, Nepal  2023-05-23  \n",
       "124             HR HUB Pvt. Ltd.  Kathmandu, Bāgmatī, Nepal  2023-05-22  \n",
       "\n",
       "[125 rows x 4 columns]"
      ]
     },
     "execution_count": 73,
     "metadata": {},
     "output_type": "execute_result"
    }
   ],
   "source": [
    "df"
   ]
  },
  {
   "cell_type": "code",
   "execution_count": null,
   "id": "148855d1",
   "metadata": {},
   "outputs": [],
   "source": []
  }
 ],
 "metadata": {
  "kernelspec": {
   "display_name": "Python 3 (ipykernel)",
   "language": "python",
   "name": "python3"
  },
  "language_info": {
   "codemirror_mode": {
    "name": "ipython",
    "version": 3
   },
   "file_extension": ".py",
   "mimetype": "text/x-python",
   "name": "python",
   "nbconvert_exporter": "python",
   "pygments_lexer": "ipython3",
   "version": "3.9.12"
  }
 },
 "nbformat": 4,
 "nbformat_minor": 5
}
