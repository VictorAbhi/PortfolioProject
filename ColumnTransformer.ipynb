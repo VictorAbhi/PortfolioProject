{
 "cells": [
  {
   "cell_type": "code",
   "execution_count": 1,
   "id": "26434230",
   "metadata": {},
   "outputs": [],
   "source": [
    "import pandas as pd\n",
    "import numpy as np"
   ]
  },
  {
   "cell_type": "code",
   "execution_count": 4,
   "id": "3c2e0931",
   "metadata": {},
   "outputs": [],
   "source": [
    "df = pd.read_csv('credit_score.csv')"
   ]
  },
  {
   "cell_type": "code",
   "execution_count": 12,
   "id": "23513b09",
   "metadata": {},
   "outputs": [],
   "source": [
    "from sklearn.preprocessing import OneHotEncoder\n",
    "from sklearn.preprocessing import OrdinalEncoder"
   ]
  },
  {
   "cell_type": "code",
   "execution_count": 5,
   "id": "e94324d9",
   "metadata": {},
   "outputs": [
    {
     "data": {
      "text/html": [
       "<div>\n",
       "<style scoped>\n",
       "    .dataframe tbody tr th:only-of-type {\n",
       "        vertical-align: middle;\n",
       "    }\n",
       "\n",
       "    .dataframe tbody tr th {\n",
       "        vertical-align: top;\n",
       "    }\n",
       "\n",
       "    .dataframe thead th {\n",
       "        text-align: right;\n",
       "    }\n",
       "</style>\n",
       "<table border=\"1\" class=\"dataframe\">\n",
       "  <thead>\n",
       "    <tr style=\"text-align: right;\">\n",
       "      <th></th>\n",
       "      <th>Age</th>\n",
       "      <th>Gender</th>\n",
       "      <th>Income</th>\n",
       "      <th>Education</th>\n",
       "      <th>Marital Status</th>\n",
       "      <th>Number of Children</th>\n",
       "      <th>Home Ownership</th>\n",
       "      <th>Credit Score</th>\n",
       "    </tr>\n",
       "  </thead>\n",
       "  <tbody>\n",
       "    <tr>\n",
       "      <th>0</th>\n",
       "      <td>25</td>\n",
       "      <td>Female</td>\n",
       "      <td>50000</td>\n",
       "      <td>Bachelor's Degree</td>\n",
       "      <td>Single</td>\n",
       "      <td>0</td>\n",
       "      <td>Rented</td>\n",
       "      <td>High</td>\n",
       "    </tr>\n",
       "    <tr>\n",
       "      <th>1</th>\n",
       "      <td>30</td>\n",
       "      <td>Male</td>\n",
       "      <td>100000</td>\n",
       "      <td>Master's Degree</td>\n",
       "      <td>Married</td>\n",
       "      <td>2</td>\n",
       "      <td>Owned</td>\n",
       "      <td>High</td>\n",
       "    </tr>\n",
       "    <tr>\n",
       "      <th>2</th>\n",
       "      <td>35</td>\n",
       "      <td>Female</td>\n",
       "      <td>75000</td>\n",
       "      <td>Doctorate</td>\n",
       "      <td>Married</td>\n",
       "      <td>1</td>\n",
       "      <td>Owned</td>\n",
       "      <td>High</td>\n",
       "    </tr>\n",
       "    <tr>\n",
       "      <th>3</th>\n",
       "      <td>40</td>\n",
       "      <td>Male</td>\n",
       "      <td>125000</td>\n",
       "      <td>High School Diploma</td>\n",
       "      <td>Single</td>\n",
       "      <td>0</td>\n",
       "      <td>Owned</td>\n",
       "      <td>High</td>\n",
       "    </tr>\n",
       "    <tr>\n",
       "      <th>4</th>\n",
       "      <td>45</td>\n",
       "      <td>Female</td>\n",
       "      <td>100000</td>\n",
       "      <td>Bachelor's Degree</td>\n",
       "      <td>Married</td>\n",
       "      <td>3</td>\n",
       "      <td>Owned</td>\n",
       "      <td>High</td>\n",
       "    </tr>\n",
       "    <tr>\n",
       "      <th>...</th>\n",
       "      <td>...</td>\n",
       "      <td>...</td>\n",
       "      <td>...</td>\n",
       "      <td>...</td>\n",
       "      <td>...</td>\n",
       "      <td>...</td>\n",
       "      <td>...</td>\n",
       "      <td>...</td>\n",
       "    </tr>\n",
       "    <tr>\n",
       "      <th>159</th>\n",
       "      <td>29</td>\n",
       "      <td>Female</td>\n",
       "      <td>27500</td>\n",
       "      <td>High School Diploma</td>\n",
       "      <td>Single</td>\n",
       "      <td>0</td>\n",
       "      <td>Rented</td>\n",
       "      <td>Low</td>\n",
       "    </tr>\n",
       "    <tr>\n",
       "      <th>160</th>\n",
       "      <td>34</td>\n",
       "      <td>Male</td>\n",
       "      <td>47500</td>\n",
       "      <td>Associate's Degree</td>\n",
       "      <td>Single</td>\n",
       "      <td>0</td>\n",
       "      <td>Rented</td>\n",
       "      <td>Average</td>\n",
       "    </tr>\n",
       "    <tr>\n",
       "      <th>161</th>\n",
       "      <td>39</td>\n",
       "      <td>Female</td>\n",
       "      <td>62500</td>\n",
       "      <td>Bachelor's Degree</td>\n",
       "      <td>Married</td>\n",
       "      <td>2</td>\n",
       "      <td>Owned</td>\n",
       "      <td>High</td>\n",
       "    </tr>\n",
       "    <tr>\n",
       "      <th>162</th>\n",
       "      <td>44</td>\n",
       "      <td>Male</td>\n",
       "      <td>87500</td>\n",
       "      <td>Master's Degree</td>\n",
       "      <td>Single</td>\n",
       "      <td>0</td>\n",
       "      <td>Owned</td>\n",
       "      <td>High</td>\n",
       "    </tr>\n",
       "    <tr>\n",
       "      <th>163</th>\n",
       "      <td>49</td>\n",
       "      <td>Female</td>\n",
       "      <td>77500</td>\n",
       "      <td>Doctorate</td>\n",
       "      <td>Married</td>\n",
       "      <td>1</td>\n",
       "      <td>Owned</td>\n",
       "      <td>High</td>\n",
       "    </tr>\n",
       "  </tbody>\n",
       "</table>\n",
       "<p>164 rows × 8 columns</p>\n",
       "</div>"
      ],
      "text/plain": [
       "     Age  Gender  Income            Education Marital Status  \\\n",
       "0     25  Female   50000    Bachelor's Degree         Single   \n",
       "1     30    Male  100000      Master's Degree        Married   \n",
       "2     35  Female   75000            Doctorate        Married   \n",
       "3     40    Male  125000  High School Diploma         Single   \n",
       "4     45  Female  100000    Bachelor's Degree        Married   \n",
       "..   ...     ...     ...                  ...            ...   \n",
       "159   29  Female   27500  High School Diploma         Single   \n",
       "160   34    Male   47500   Associate's Degree         Single   \n",
       "161   39  Female   62500    Bachelor's Degree        Married   \n",
       "162   44    Male   87500      Master's Degree         Single   \n",
       "163   49  Female   77500            Doctorate        Married   \n",
       "\n",
       "     Number of Children Home Ownership Credit Score  \n",
       "0                     0         Rented         High  \n",
       "1                     2          Owned         High  \n",
       "2                     1          Owned         High  \n",
       "3                     0          Owned         High  \n",
       "4                     3          Owned         High  \n",
       "..                  ...            ...          ...  \n",
       "159                   0         Rented          Low  \n",
       "160                   0         Rented      Average  \n",
       "161                   2          Owned         High  \n",
       "162                   0          Owned         High  \n",
       "163                   1          Owned         High  \n",
       "\n",
       "[164 rows x 8 columns]"
      ]
     },
     "execution_count": 5,
     "metadata": {},
     "output_type": "execute_result"
    }
   ],
   "source": [
    "df"
   ]
  },
  {
   "cell_type": "code",
   "execution_count": 6,
   "id": "5efccf8b",
   "metadata": {},
   "outputs": [
    {
     "data": {
      "text/plain": [
       "Age                   0\n",
       "Gender                0\n",
       "Income                0\n",
       "Education             0\n",
       "Marital Status        0\n",
       "Number of Children    0\n",
       "Home Ownership        0\n",
       "Credit Score          0\n",
       "dtype: int64"
      ]
     },
     "execution_count": 6,
     "metadata": {},
     "output_type": "execute_result"
    }
   ],
   "source": [
    "df.isnull().sum()"
   ]
  },
  {
   "cell_type": "code",
   "execution_count": 7,
   "id": "2c3ddf9f",
   "metadata": {},
   "outputs": [],
   "source": [
    "from sklearn.model_selection import train_test_split\n",
    "X_train,X_test,y_train,y_test = train_test_split(df.drop(columns=['Credit Score']),df['Credit Score'],\n",
    "                                                test_size=0.2)"
   ]
  },
  {
   "cell_type": "code",
   "execution_count": 8,
   "id": "7a4f878e",
   "metadata": {},
   "outputs": [
    {
     "data": {
      "text/html": [
       "<div>\n",
       "<style scoped>\n",
       "    .dataframe tbody tr th:only-of-type {\n",
       "        vertical-align: middle;\n",
       "    }\n",
       "\n",
       "    .dataframe tbody tr th {\n",
       "        vertical-align: top;\n",
       "    }\n",
       "\n",
       "    .dataframe thead th {\n",
       "        text-align: right;\n",
       "    }\n",
       "</style>\n",
       "<table border=\"1\" class=\"dataframe\">\n",
       "  <thead>\n",
       "    <tr style=\"text-align: right;\">\n",
       "      <th></th>\n",
       "      <th>Age</th>\n",
       "      <th>Gender</th>\n",
       "      <th>Income</th>\n",
       "      <th>Education</th>\n",
       "      <th>Marital Status</th>\n",
       "      <th>Number of Children</th>\n",
       "      <th>Home Ownership</th>\n",
       "    </tr>\n",
       "  </thead>\n",
       "  <tbody>\n",
       "    <tr>\n",
       "      <th>18</th>\n",
       "      <td>28</td>\n",
       "      <td>Female</td>\n",
       "      <td>30000</td>\n",
       "      <td>Associate's Degree</td>\n",
       "      <td>Single</td>\n",
       "      <td>0</td>\n",
       "      <td>Rented</td>\n",
       "    </tr>\n",
       "    <tr>\n",
       "      <th>17</th>\n",
       "      <td>52</td>\n",
       "      <td>Male</td>\n",
       "      <td>125000</td>\n",
       "      <td>High School Diploma</td>\n",
       "      <td>Married</td>\n",
       "      <td>0</td>\n",
       "      <td>Owned</td>\n",
       "    </tr>\n",
       "    <tr>\n",
       "      <th>152</th>\n",
       "      <td>52</td>\n",
       "      <td>Male</td>\n",
       "      <td>130000</td>\n",
       "      <td>High School Diploma</td>\n",
       "      <td>Married</td>\n",
       "      <td>0</td>\n",
       "      <td>Owned</td>\n",
       "    </tr>\n",
       "    <tr>\n",
       "      <th>124</th>\n",
       "      <td>35</td>\n",
       "      <td>Female</td>\n",
       "      <td>85000</td>\n",
       "      <td>Doctorate</td>\n",
       "      <td>Married</td>\n",
       "      <td>1</td>\n",
       "      <td>Owned</td>\n",
       "    </tr>\n",
       "    <tr>\n",
       "      <th>39</th>\n",
       "      <td>46</td>\n",
       "      <td>Female</td>\n",
       "      <td>95000</td>\n",
       "      <td>High School Diploma</td>\n",
       "      <td>Married</td>\n",
       "      <td>1</td>\n",
       "      <td>Owned</td>\n",
       "    </tr>\n",
       "    <tr>\n",
       "      <th>...</th>\n",
       "      <td>...</td>\n",
       "      <td>...</td>\n",
       "      <td>...</td>\n",
       "      <td>...</td>\n",
       "      <td>...</td>\n",
       "      <td>...</td>\n",
       "      <td>...</td>\n",
       "    </tr>\n",
       "    <tr>\n",
       "      <th>60</th>\n",
       "      <td>35</td>\n",
       "      <td>Female</td>\n",
       "      <td>85000</td>\n",
       "      <td>Doctorate</td>\n",
       "      <td>Married</td>\n",
       "      <td>1</td>\n",
       "      <td>Owned</td>\n",
       "    </tr>\n",
       "    <tr>\n",
       "      <th>104</th>\n",
       "      <td>51</td>\n",
       "      <td>Male</td>\n",
       "      <td>150000</td>\n",
       "      <td>Bachelor's Degree</td>\n",
       "      <td>Married</td>\n",
       "      <td>0</td>\n",
       "      <td>Owned</td>\n",
       "    </tr>\n",
       "    <tr>\n",
       "      <th>29</th>\n",
       "      <td>25</td>\n",
       "      <td>Female</td>\n",
       "      <td>55000</td>\n",
       "      <td>Bachelor's Degree</td>\n",
       "      <td>Single</td>\n",
       "      <td>0</td>\n",
       "      <td>Rented</td>\n",
       "    </tr>\n",
       "    <tr>\n",
       "      <th>106</th>\n",
       "      <td>32</td>\n",
       "      <td>Male</td>\n",
       "      <td>57500</td>\n",
       "      <td>Associate's Degree</td>\n",
       "      <td>Single</td>\n",
       "      <td>0</td>\n",
       "      <td>Rented</td>\n",
       "    </tr>\n",
       "    <tr>\n",
       "      <th>53</th>\n",
       "      <td>29</td>\n",
       "      <td>Female</td>\n",
       "      <td>27500</td>\n",
       "      <td>High School Diploma</td>\n",
       "      <td>Single</td>\n",
       "      <td>0</td>\n",
       "      <td>Rented</td>\n",
       "    </tr>\n",
       "  </tbody>\n",
       "</table>\n",
       "<p>131 rows × 7 columns</p>\n",
       "</div>"
      ],
      "text/plain": [
       "     Age  Gender  Income            Education Marital Status  \\\n",
       "18    28  Female   30000   Associate's Degree         Single   \n",
       "17    52    Male  125000  High School Diploma        Married   \n",
       "152   52    Male  130000  High School Diploma        Married   \n",
       "124   35  Female   85000            Doctorate        Married   \n",
       "39    46  Female   95000  High School Diploma        Married   \n",
       "..   ...     ...     ...                  ...            ...   \n",
       "60    35  Female   85000            Doctorate        Married   \n",
       "104   51    Male  150000    Bachelor's Degree        Married   \n",
       "29    25  Female   55000    Bachelor's Degree         Single   \n",
       "106   32    Male   57500   Associate's Degree         Single   \n",
       "53    29  Female   27500  High School Diploma         Single   \n",
       "\n",
       "     Number of Children Home Ownership  \n",
       "18                    0         Rented  \n",
       "17                    0          Owned  \n",
       "152                   0          Owned  \n",
       "124                   1          Owned  \n",
       "39                    1          Owned  \n",
       "..                  ...            ...  \n",
       "60                    1          Owned  \n",
       "104                   0          Owned  \n",
       "29                    0         Rented  \n",
       "106                   0         Rented  \n",
       "53                    0         Rented  \n",
       "\n",
       "[131 rows x 7 columns]"
      ]
     },
     "execution_count": 8,
     "metadata": {},
     "output_type": "execute_result"
    }
   ],
   "source": [
    "X_train"
   ]
  },
  {
   "cell_type": "markdown",
   "id": "a763b010",
   "metadata": {},
   "source": [
    "<h3>Without using Column Transformer</h3>"
   ]
  },
  {
   "cell_type": "code",
   "execution_count": 19,
   "id": "a412568c",
   "metadata": {},
   "outputs": [
    {
     "data": {
      "text/plain": [
       "(131, 1)"
      ]
     },
     "execution_count": 19,
     "metadata": {},
     "output_type": "execute_result"
    }
   ],
   "source": [
    "# Ordinalencoding -> Education\n",
    "oe = OrdinalEncoder(categories=[['High School Diploma', \"Associate's Degree\", \"Bachelor's Degree\", \"Master's Degree\", 'Doctorate']])\n",
    "X_train_edu = oe.fit_transform(X_train[['Education']])\n",
    "\n",
    "# also the test data\n",
    "X_test_edu = oe.transform(X_test[['Education']])\n",
    "\n",
    "X_train_edu.shape"
   ]
  },
  {
   "cell_type": "code",
   "execution_count": 23,
   "id": "36045a4e",
   "metadata": {},
   "outputs": [
    {
     "data": {
      "text/plain": [
       "(131, 3)"
      ]
     },
     "execution_count": 23,
     "metadata": {},
     "output_type": "execute_result"
    }
   ],
   "source": [
    "# OneHotEncoding -> Gender, Marital Status, Home Ownership\n",
    "ohe = OneHotEncoder(drop='first', sparse_output=False)\n",
    "X_train_3 = ohe.fit_transform(X_train[['Gender','Marital Status','Home Ownership']])\n",
    "\n",
    "# also the test data\n",
    "X_test_3 = ohe.transform(X_test[['Gender','Marital Status','Home Ownership']])\n",
    "\n",
    "X_train_3.shape"
   ]
  },
  {
   "cell_type": "code",
   "execution_count": 26,
   "id": "21fe48db",
   "metadata": {},
   "outputs": [
    {
     "data": {
      "text/plain": [
       "(131, 3)"
      ]
     },
     "execution_count": 26,
     "metadata": {},
     "output_type": "execute_result"
    }
   ],
   "source": [
    "# Extracting Age, Income, Number of Children\n",
    "X_train_AIN = X_train.drop(columns=['Gender','Education','Marital Status','Home Ownership']).values\n",
    "# also the test data\n",
    "X_test_AIN = X_test.drop(columns=['Gender','Education','Marital Status','Home Ownership']).values\n",
    "\n",
    "X_train_AIN.shape"
   ]
  },
  {
   "cell_type": "code",
   "execution_count": 28,
   "id": "ff6cc40b",
   "metadata": {},
   "outputs": [
    {
     "data": {
      "text/plain": [
       "(131, 7)"
      ]
     },
     "execution_count": 28,
     "metadata": {},
     "output_type": "execute_result"
    }
   ],
   "source": [
    "X_train_transformed = np.concatenate((X_train_AIN,X_train_edu,X_train_3),axis=1)\n",
    "# also the test data\n",
    "X_test_transformed = np.concatenate((X_test_AIN,X_test_edu, X_test_3),axis=1)\n",
    "\n",
    "X_train_transformed.shape"
   ]
  },
  {
   "cell_type": "code",
   "execution_count": 29,
   "id": "af9105d1",
   "metadata": {},
   "outputs": [],
   "source": [
    "df1 = pd.DataFrame(X_train_transformed)"
   ]
  },
  {
   "cell_type": "markdown",
   "id": "8994d392",
   "metadata": {},
   "source": [
    "<h3>Using ColumnTransformer</h3>"
   ]
  },
  {
   "cell_type": "code",
   "execution_count": 31,
   "id": "c8f5a4eb",
   "metadata": {},
   "outputs": [],
   "source": [
    "from sklearn.compose import ColumnTransformer"
   ]
  },
  {
   "cell_type": "code",
   "execution_count": 34,
   "id": "70df71ec",
   "metadata": {},
   "outputs": [],
   "source": [
    "transformer = ColumnTransformer(transformers=[\n",
    "    ('tnf1',OrdinalEncoder(categories=[['High School Diploma', \"Associate's Degree\", \"Bachelor's Degree\", \"Master's Degree\", 'Doctorate']]),['Education']),\n",
    "    ('tnf2',OneHotEncoder(sparse_output=False,drop='first'),['Gender','Marital Status','Home Ownership'])\n",
    "],remainder='passthrough')"
   ]
  },
  {
   "cell_type": "code",
   "execution_count": 35,
   "id": "17081771",
   "metadata": {},
   "outputs": [
    {
     "data": {
      "text/plain": [
       "(131, 7)"
      ]
     },
     "execution_count": 35,
     "metadata": {},
     "output_type": "execute_result"
    }
   ],
   "source": [
    "transformer.fit_transform(X_train).shape"
   ]
  },
  {
   "cell_type": "code",
   "execution_count": 36,
   "id": "ef42d7c4",
   "metadata": {},
   "outputs": [
    {
     "data": {
      "text/plain": [
       "(33, 7)"
      ]
     },
     "execution_count": 36,
     "metadata": {},
     "output_type": "execute_result"
    }
   ],
   "source": [
    "transformer.transform(X_test).shape"
   ]
  },
  {
   "cell_type": "code",
   "execution_count": null,
   "id": "7019dcee",
   "metadata": {},
   "outputs": [],
   "source": []
  }
 ],
 "metadata": {
  "kernelspec": {
   "display_name": "Python 3 (ipykernel)",
   "language": "python",
   "name": "python3"
  },
  "language_info": {
   "codemirror_mode": {
    "name": "ipython",
    "version": 3
   },
   "file_extension": ".py",
   "mimetype": "text/x-python",
   "name": "python",
   "nbconvert_exporter": "python",
   "pygments_lexer": "ipython3",
   "version": "3.10.9"
  }
 },
 "nbformat": 4,
 "nbformat_minor": 5
}
